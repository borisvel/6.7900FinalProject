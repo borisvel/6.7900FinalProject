{
 "cells": [
  {
   "cell_type": "code",
   "execution_count": 193,
   "id": "bd64b950",
   "metadata": {},
   "outputs": [],
   "source": [
    "import argparse\n",
    "import os\n",
    "import numpy as np\n",
    "import math\n",
    "import matplotlib.pyplot as plt\n",
    "from scipy.stats import multivariate_normal as mvn\n",
    "import random\n",
    "\n",
    "import torchvision.transforms as transforms\n",
    "from torchvision.utils import save_image\n",
    "import torchvision.datasets as dset\n",
    "\n",
    "from torch.utils.data import DataLoader\n",
    "from torchvision import datasets\n",
    "from torch.autograd import Variable\n",
    "import torch.utils.data as data_utils\n",
    "\n",
    "import torch.nn as nn\n",
    "import torch.nn.functional as F\n",
    "import torch"
   ]
  },
  {
   "cell_type": "code",
   "execution_count": 123,
   "id": "132541fc",
   "metadata": {},
   "outputs": [],
   "source": [
    "n_epochs = 200\n",
    "batch_size = 64\n",
    "lr = 1e-4\n",
    "b1 = 0.5\n",
    "b2 = 0.999\n",
    "n_cpu = 8\n",
    "latent_dim = 40\n",
    "img_size = 64\n",
    "channels = 3\n",
    "sample_interval=400\n",
    "lam1 = 1e-1\n",
    "lam2 = 1e-2\n",
    "lam3 = 5\n",
    "sample_pixels = sorted(random.sample(list(range(img_size*img_size*3)), 6500))\n",
    "\n",
    "img_shape = (channels, img_size, img_size)\n",
    "\n",
    "cuda = True if torch.cuda.is_available() else False"
   ]
  },
  {
   "cell_type": "code",
   "execution_count": 124,
   "id": "1aaa4530",
   "metadata": {},
   "outputs": [],
   "source": [
    "dataroot = \"resized_data_bayc_no_background\"\n",
    "dataset = dset.ImageFolder(root=dataroot,\n",
    "                           transform=transforms.Compose([\n",
    "                               transforms.Resize(img_size),\n",
    "                               transforms.ToTensor(),\n",
    "                               transforms.Normalize((0.5, 0.5, 0.5), (0.5, 0.5, 0.5)),\n",
    "                           ]))"
   ]
  },
  {
   "cell_type": "code",
   "execution_count": 125,
   "id": "77e53c1d",
   "metadata": {},
   "outputs": [],
   "source": [
    "samples = 5000\n",
    "image_samples = np.zeros((samples, img_size*img_size*3))\n",
    "for i in range(0, samples):\n",
    "    sample_idx = torch.randint(len(dataset), size=(1,)).item()\n",
    "    img, _ = dataset[sample_idx]\n",
    "    flat = torch.flatten(img).numpy()\n",
    "    image_samples[i] = flat\n",
    "image_samples_apes = image_samples.T[sample_pixels]\n",
    "image_samples_apes = torch.tensor(image_samples_apes)"
   ]
  },
  {
   "cell_type": "code",
   "execution_count": 126,
   "id": "79014a04",
   "metadata": {},
   "outputs": [],
   "source": [
    "#mean_apes = np.mean(image_samples_apes, axis = 1)\n",
    "#cov_apes = np.cov(image_samples_apes) + 0.0001*np.identity(len(sample_pixels)) \n",
    "#dist_apes = mvn(mean_apes, cov_apes)"
   ]
  },
  {
   "cell_type": "code",
   "execution_count": 127,
   "id": "8f96eb42",
   "metadata": {},
   "outputs": [],
   "source": [
    "dataroot = \"resized_data_unicorns\"\n",
    "dataset = dset.ImageFolder(root=dataroot,\n",
    "                           transform=transforms.Compose([\n",
    "                               transforms.Resize(img_size),\n",
    "                               transforms.ToTensor(),\n",
    "                               transforms.Normalize((0.5, 0.5, 0.5), (0.5, 0.5, 0.5)),\n",
    "                           ]))"
   ]
  },
  {
   "cell_type": "code",
   "execution_count": 128,
   "id": "e6ff340d",
   "metadata": {},
   "outputs": [],
   "source": [
    "samples = 1100\n",
    "image_samples = np.zeros((samples, img_size*img_size*3))\n",
    "for i in range(0, samples):\n",
    "    sample_idx = torch.randint(len(dataset), size=(1,)).item()\n",
    "    img, _ = dataset[sample_idx]\n",
    "    flat = torch.flatten(img).numpy()\n",
    "    image_samples[i] = flat\n",
    "image_samples_unicorns = image_samples.T[sample_pixels]\n",
    "image_samples_unicorns = torch.tensor(image_samples_unicorns)"
   ]
  },
  {
   "cell_type": "code",
   "execution_count": 129,
   "id": "6ef5e501",
   "metadata": {},
   "outputs": [],
   "source": [
    "#mean_unicorns = np.mean(image_samples_unicorns, axis = 1)\n",
    "#cov_unicorns = np.cov(image_samples_unicorns) + 0.0001*np.identity(len(sample_pixels)) \n",
    "#dist_unicorns = mvn(mean_unicorns, cov_unicorns)"
   ]
  },
  {
   "cell_type": "code",
   "execution_count": 467,
   "id": "b8a53bcd",
   "metadata": {},
   "outputs": [],
   "source": [
    "class Generator(nn.Module):\n",
    "    def __init__(self):\n",
    "        super(Generator, self).__init__()\n",
    "\n",
    "        def block(in_feat, out_feat, normalize=True):\n",
    "            layers = [nn.Linear(in_feat, out_feat)]\n",
    "            if normalize:\n",
    "                layers.append(nn.BatchNorm1d(out_feat, 0.8))\n",
    "            layers.append(nn.LeakyReLU(0.2, inplace=True))\n",
    "            return layers\n",
    "\n",
    "        self.model = nn.Sequential(\n",
    "            *block(latent_dim, 128, normalize=False),\n",
    "            *block(128, 256),\n",
    "            *block(256, 512),\n",
    "            *block(512, 1024),\n",
    "            nn.Linear(1024, int(np.prod(img_shape))),\n",
    "            nn.Tanh()\n",
    "        )\n",
    "    \n",
    "    \n",
    "    def regularization(self, gen_imgs):\n",
    "        \n",
    "        result1 = 0\n",
    "        result2 = 0\n",
    "        sample_images = random.sample(list(range(len(gen_imgs))), 5)\n",
    "        for i in sample_images:\n",
    "            img = gen_imgs[i]\n",
    "            flat = torch.flatten(img)[sample_pixels]\n",
    "            a = torch.log(torch.min(torch.linalg.norm(torch.transpose(torch.transpose(image_samples_apes, 0, 1) - flat.expand(5000, len(sample_pixels)), 0, 1),dim=0)))\n",
    "            #b = torch.log(torch.min(torch.linalg.norm(torch.transpose(torch.transpose(image_samples_unicorns, 0, 1) - flat.expand(1100, len(sample_pixels)), 0, 1),dim=0)))\n",
    "            result1 += -a\n",
    "            #result2 += -b\n",
    "        return lam1*result1/len(sample_images) + lam2*result2/len(sample_images)\n",
    "        \n",
    "    def regularization_fast(self, gen_imgs, autoencoder):\n",
    "        result = 0\n",
    "        for img in gen_imgs:\n",
    "            enc = torch.flatten(autoencoder.encode(img.view(1, *img.shape)))\n",
    "            a = torch.log(torch.min(torch.linalg.norm(torch.transpose(torch.transpose(image_sample_apes_encoded, 0, 1) - enc.expand(1868, 32), 0, 1),dim=0)))\n",
    "            result += -a\n",
    "        return lam1*result/len(gen_imgs)\n",
    "            \n",
    "    def regularization2(self, classifier, gen_imgs):\n",
    "        predictions = classifier(gen_imgs)\n",
    "        p = torch.sum(predictions, dim=0)[1]/torch.sum(predictions)\n",
    "        return lam3*(p*torch.log(2*p) + (1 - p)*torch.log(2*(1 - p)))\n",
    "        \n",
    "        \n",
    "    def forward(self, z):\n",
    "        img = self.model(z)\n",
    "        img = img.view(img.size(0), *img_shape)\n",
    "        return img"
   ]
  },
  {
   "cell_type": "code",
   "execution_count": 468,
   "id": "bf2c8595",
   "metadata": {},
   "outputs": [],
   "source": [
    "class Discriminator(nn.Module):\n",
    "    def __init__(self):\n",
    "        super(Discriminator, self).__init__()\n",
    "\n",
    "        self.model = nn.Sequential(\n",
    "            nn.Linear(int(np.prod(img_shape)), 512),\n",
    "            nn.LeakyReLU(0.2, inplace=True),\n",
    "            nn.Linear(512, 256),\n",
    "            nn.LeakyReLU(0.2, inplace=True),\n",
    "            nn.Linear(256, 1),\n",
    "            nn.Sigmoid(),\n",
    "        )\n",
    "\n",
    "    def forward(self, img):\n",
    "        img_flat = img.view(img.size(0), -1)\n",
    "        validity = self.model(img_flat)\n",
    "\n",
    "        return validity"
   ]
  },
  {
   "cell_type": "code",
   "execution_count": 469,
   "id": "4484624e",
   "metadata": {},
   "outputs": [],
   "source": [
    "class Classifier(nn.Module):\n",
    "    def __init__(self):\n",
    "        super(Classifier, self).__init__()\n",
    "\n",
    "        self.model = nn.Sequential(\n",
    "            nn.Linear(int(np.prod(img_shape)), 256),\n",
    "            nn.LeakyReLU(0.2, inplace=True),\n",
    "            nn.Linear(256, 2),\n",
    "            nn.Softmax(),\n",
    "        )\n",
    "\n",
    "    def forward(self, img):\n",
    "        img_flat = img.view(img.size(0), -1)\n",
    "        predictions = self.model(img_flat)\n",
    "\n",
    "        return predictions"
   ]
  },
  {
   "cell_type": "code",
   "execution_count": 470,
   "id": "882b67e8",
   "metadata": {},
   "outputs": [],
   "source": [
    "class Autoencoder(nn.Module):\n",
    "    def __init__(self):\n",
    "        super(Autoencoder, self).__init__()\n",
    "        \n",
    "        self.encoder = torch.nn.Sequential(\n",
    "            nn.Linear(int(np.prod(img_shape)), 256),\n",
    "            nn.LeakyReLU(0.2, inplace=True),\n",
    "            nn.Linear(256, 128),\n",
    "            nn.LeakyReLU(0.2, inplace=True),\n",
    "            nn.Linear(128, 64),\n",
    "            nn.LeakyReLU(0.2, inplace=True),\n",
    "            nn.Linear(64, 32),\n",
    "        )\n",
    "        \n",
    "        self.decoder = torch.nn.Sequential(\n",
    "            nn.Linear(32, 64),\n",
    "            nn.LeakyReLU(0.2, inplace=True),\n",
    "            nn.Linear(64, 128),\n",
    "            nn.LeakyReLU(0.2, inplace=True),\n",
    "            nn.Linear(128, 256),\n",
    "            nn.LeakyReLU(0.2, inplace=True),\n",
    "            nn.Linear(256, int(np.prod(img_shape))),\n",
    "            nn.Tanh(),\n",
    "        )\n",
    "        \n",
    "    def encode(self, x):\n",
    "        x_flat = x.view(x.size(0), -1)\n",
    "        return self.encoder(x_flat)\n",
    "        \n",
    "    def decode(self, encoded):\n",
    "        decode = self.decoder(encoded)\n",
    "        decode = decode.view(decode.size(0), *img_shape)\n",
    "        return decode\n",
    "        \n",
    "    def forward(self, x):\n",
    "        return self.decode(self.encode(x))"
   ]
  },
  {
   "cell_type": "code",
   "execution_count": 363,
   "id": "623dd5eb",
   "metadata": {},
   "outputs": [],
   "source": [
    "classifier_loss = torch.nn.BCELoss()\n",
    "classifier = Classifier()\n",
    "if cuda:\n",
    "    classifier.cuda()\n",
    "    classifier_loss.cuda()\n",
    "optimizer_C = torch.optim.Adam(classifier.parameters(), lr=lr, betas=(b1, b2))"
   ]
  },
  {
   "cell_type": "code",
   "execution_count": 364,
   "id": "a3a12608",
   "metadata": {},
   "outputs": [],
   "source": [
    "ae_loss = torch.nn.MSELoss()\n",
    "ae = Autoencoder()\n",
    "if cuda:\n",
    "    ae.cuda()\n",
    "    ae_loss.cuda()\n",
    "optimizer_ae = torch.optim.Adam(ae.parameters(), lr=lr, betas=(b1, b2))"
   ]
  },
  {
   "cell_type": "code",
   "execution_count": 471,
   "id": "3a86365c",
   "metadata": {},
   "outputs": [],
   "source": [
    "# Loss function\n",
    "adversarial_loss = torch.nn.BCELoss()\n",
    "\n",
    "# Initialize generator and discriminator\n",
    "generator = Generator()\n",
    "discriminator = Discriminator()\n",
    "\n",
    "if cuda:\n",
    "    generator.cuda()\n",
    "    discriminator.cuda()\n",
    "    adversarial_loss.cuda()"
   ]
  },
  {
   "cell_type": "code",
   "execution_count": 472,
   "id": "514253ba",
   "metadata": {},
   "outputs": [],
   "source": [
    "optimizer_G = torch.optim.Adam(generator.parameters(), lr=lr, betas=(b1, b2))\n",
    "optimizer_D = torch.optim.Adam(discriminator.parameters(), lr=lr, betas=(b1, b2))\n",
    "\n",
    "Tensor = torch.cuda.FloatTensor if cuda else torch.FloatTensor"
   ]
  },
  {
   "cell_type": "code",
   "execution_count": 473,
   "id": "544bd067",
   "metadata": {},
   "outputs": [],
   "source": [
    "dataroot = \"resized_data_mixed\"\n",
    "dataset = dset.ImageFolder(root=dataroot,\n",
    "                           transform=transforms.Compose([\n",
    "                               transforms.Resize(img_size),\n",
    "                               transforms.ToTensor(),\n",
    "                               transforms.Normalize((0.5, 0.5, 0.5), (0.5, 0.5, 0.5)),\n",
    "                           ]))"
   ]
  },
  {
   "cell_type": "code",
   "execution_count": 368,
   "id": "cb1e4a1f",
   "metadata": {},
   "outputs": [],
   "source": [
    "indices = torch.arange(0,1868)\n",
    "dataset1 = data_utils.Subset(dataset, indices)\n",
    "dataloader1 = torch.utils.data.DataLoader(dataset1, batch_size=batch_size,\n",
    "                                         shuffle=True)"
   ]
  },
  {
   "cell_type": "code",
   "execution_count": 369,
   "id": "3e3f9230",
   "metadata": {},
   "outputs": [
    {
     "name": "stdout",
     "output_type": "stream",
     "text": [
      "[Epoch 0/200] [Batch 0/30] [AE loss: 0.723617]\n",
      "[Epoch 13/200] [Batch 10/30] [AE loss: 0.106132]\n",
      "[Epoch 26/200] [Batch 20/30] [AE loss: 0.068161]\n",
      "[Epoch 40/200] [Batch 0/30] [AE loss: 0.063492]\n",
      "[Epoch 53/200] [Batch 10/30] [AE loss: 0.055330]\n",
      "[Epoch 66/200] [Batch 20/30] [AE loss: 0.055649]\n",
      "[Epoch 80/200] [Batch 0/30] [AE loss: 0.053509]\n",
      "[Epoch 93/200] [Batch 10/30] [AE loss: 0.050813]\n",
      "[Epoch 106/200] [Batch 20/30] [AE loss: 0.049302]\n",
      "[Epoch 120/200] [Batch 0/30] [AE loss: 0.042130]\n",
      "[Epoch 133/200] [Batch 10/30] [AE loss: 0.046514]\n",
      "[Epoch 146/200] [Batch 20/30] [AE loss: 0.039975]\n",
      "[Epoch 160/200] [Batch 0/30] [AE loss: 0.038913]\n",
      "[Epoch 173/200] [Batch 10/30] [AE loss: 0.037278]\n",
      "[Epoch 186/200] [Batch 20/30] [AE loss: 0.035064]\n"
     ]
    }
   ],
   "source": [
    "for epoch in range(n_epochs):\n",
    "    for i, (imgs, labels) in enumerate(dataloader1):\n",
    "        reconstructed = ae(imgs)\n",
    "        optimizer_ae.zero_grad()\n",
    "        loss = ae_loss(reconstructed, imgs)\n",
    "        loss.backward()\n",
    "        optimizer_ae.step()\n",
    "        batches_done = epoch * len(dataloader1) + i\n",
    "\n",
    "        if batches_done % sample_interval == 0:\n",
    "            print(\n",
    "                \"[Epoch %d/%d] [Batch %d/%d] [AE loss: %f]\"\n",
    "                % (epoch, n_epochs, i, len(dataloader1), loss.item())\n",
    "            )  "
   ]
  },
  {
   "cell_type": "code",
   "execution_count": 455,
   "id": "4505543d",
   "metadata": {},
   "outputs": [],
   "source": [
    "image_sample_apes_encoded = []\n",
    "for i in range(len(dataset1)):\n",
    "    img = dataset[i][0].view(1, *img_shape)\n",
    "    enc = ae.encode(img).detach().view(-1, 32)[0]\n",
    "    image_sample_apes_encoded.append(np.array(enc))\n",
    "image_sample_apes_encoded = np.array(image_sample_apes_encoded).T    \n",
    "image_sample_apes_encoded = torch.tensor(image_sample_apes_encoded)"
   ]
  },
  {
   "cell_type": "code",
   "execution_count": 456,
   "id": "25c8fd2f",
   "metadata": {},
   "outputs": [
    {
     "data": {
      "text/plain": [
       "torch.Size([32, 1868])"
      ]
     },
     "execution_count": 456,
     "metadata": {},
     "output_type": "execute_result"
    }
   ],
   "source": [
    "image_sample_apes_encoded.shape"
   ]
  },
  {
   "cell_type": "code",
   "execution_count": 474,
   "id": "17c917b0",
   "metadata": {},
   "outputs": [],
   "source": [
    "dataloader = torch.utils.data.DataLoader(dataset, batch_size=batch_size,\n",
    "                                         shuffle=True)"
   ]
  },
  {
   "cell_type": "code",
   "execution_count": 400,
   "id": "08032cdb",
   "metadata": {},
   "outputs": [
    {
     "name": "stdout",
     "output_type": "stream",
     "text": [
      "[Epoch 0/200] [Batch 0/67] [C loss: 0.672675]\n",
      "[Epoch 5/200] [Batch 65/67] [C loss: 0.000021]\n",
      "[Epoch 11/200] [Batch 63/67] [C loss: 0.000011]\n",
      "[Epoch 17/200] [Batch 61/67] [C loss: 0.000001]\n",
      "[Epoch 23/200] [Batch 59/67] [C loss: 0.000001]\n",
      "[Epoch 29/200] [Batch 57/67] [C loss: 0.000001]\n",
      "[Epoch 35/200] [Batch 55/67] [C loss: 0.000001]\n",
      "[Epoch 41/200] [Batch 53/67] [C loss: 0.000000]\n",
      "[Epoch 47/200] [Batch 51/67] [C loss: 0.000000]\n"
     ]
    }
   ],
   "source": [
    "for epoch in range(n_epochs//4):\n",
    "    for i, (imgs, labels) in enumerate(dataloader):\n",
    "        labels = torch.cat((labels.view(len(labels), 1), (1-labels).view(len(labels), 1)), 1).float()\n",
    "        inp = Variable(imgs.type(Tensor))\n",
    "        prediction = classifier(imgs)\n",
    "        lab = Variable(labels.type(Tensor))\n",
    "        optimizer_C.zero_grad()\n",
    "        loss = classifier_loss(prediction, labels)\n",
    "        loss.backward()\n",
    "        optimizer_C.step()\n",
    "        batches_done = epoch * len(dataloader) + i\n",
    "\n",
    "        if batches_done % sample_interval == 0:\n",
    "            print(\n",
    "                \"[Epoch %d/%d] [Batch %d/%d] [C loss: %f]\"\n",
    "                % (epoch, n_epochs, i, len(dataloader), loss.item())\n",
    "            )  "
   ]
  },
  {
   "cell_type": "code",
   "execution_count": 475,
   "id": "f5a7efa0",
   "metadata": {},
   "outputs": [
    {
     "name": "stdout",
     "output_type": "stream",
     "text": [
      "[Epoch 0/200] [Batch 0/67] [D loss: 0.675963] [G loss: 0.286307]\n",
      "[Epoch 5/200] [Batch 65/67] [D loss: 0.201108] [G loss: 1.133647]\n",
      "[Epoch 11/200] [Batch 63/67] [D loss: 1.096573] [G loss: -0.074273]\n",
      "[Epoch 17/200] [Batch 61/67] [D loss: 0.296016] [G loss: 0.660062]\n",
      "[Epoch 23/200] [Batch 59/67] [D loss: 0.252975] [G loss: 1.185986]\n",
      "[Epoch 29/200] [Batch 57/67] [D loss: 0.234399] [G loss: 1.028073]\n",
      "[Epoch 35/200] [Batch 55/67] [D loss: 0.168292] [G loss: 2.012831]\n",
      "[Epoch 41/200] [Batch 53/67] [D loss: 0.491887] [G loss: 2.704627]\n",
      "[Epoch 47/200] [Batch 51/67] [D loss: 0.223282] [G loss: 1.491283]\n",
      "[Epoch 53/200] [Batch 49/67] [D loss: 0.176546] [G loss: 1.563449]\n",
      "[Epoch 59/200] [Batch 47/67] [D loss: 0.264487] [G loss: 1.129790]\n",
      "[Epoch 65/200] [Batch 45/67] [D loss: 0.219745] [G loss: 1.551627]\n",
      "[Epoch 71/200] [Batch 43/67] [D loss: 0.212652] [G loss: 1.870407]\n",
      "[Epoch 77/200] [Batch 41/67] [D loss: 0.264425] [G loss: 1.390724]\n",
      "[Epoch 83/200] [Batch 39/67] [D loss: 0.260996] [G loss: 1.850852]\n",
      "[Epoch 89/200] [Batch 37/67] [D loss: 0.228186] [G loss: 2.472866]\n",
      "[Epoch 95/200] [Batch 35/67] [D loss: 0.226715] [G loss: 1.234510]\n",
      "[Epoch 101/200] [Batch 33/67] [D loss: 0.258992] [G loss: 2.139851]\n",
      "[Epoch 107/200] [Batch 31/67] [D loss: 0.237533] [G loss: 1.546523]\n",
      "[Epoch 113/200] [Batch 29/67] [D loss: 0.229002] [G loss: 2.607829]\n",
      "[Epoch 119/200] [Batch 27/67] [D loss: 0.173761] [G loss: 1.633373]\n",
      "[Epoch 125/200] [Batch 25/67] [D loss: 0.229637] [G loss: 1.798326]\n",
      "[Epoch 131/200] [Batch 23/67] [D loss: 0.244541] [G loss: 1.262225]\n",
      "[Epoch 137/200] [Batch 21/67] [D loss: 0.193550] [G loss: 2.062871]\n",
      "[Epoch 143/200] [Batch 19/67] [D loss: 0.187519] [G loss: 1.652016]\n",
      "[Epoch 149/200] [Batch 17/67] [D loss: 0.153155] [G loss: 2.218357]\n",
      "[Epoch 155/200] [Batch 15/67] [D loss: 0.138290] [G loss: 2.369896]\n",
      "[Epoch 161/200] [Batch 13/67] [D loss: 0.155664] [G loss: 2.707213]\n",
      "[Epoch 167/200] [Batch 11/67] [D loss: 0.181184] [G loss: 2.295613]\n",
      "[Epoch 173/200] [Batch 9/67] [D loss: 0.185016] [G loss: 1.905935]\n",
      "[Epoch 179/200] [Batch 7/67] [D loss: 0.142258] [G loss: 2.229219]\n",
      "[Epoch 185/200] [Batch 5/67] [D loss: 0.218275] [G loss: 2.888123]\n",
      "[Epoch 191/200] [Batch 3/67] [D loss: 0.157642] [G loss: 2.040716]\n",
      "[Epoch 197/200] [Batch 1/67] [D loss: 0.164999] [G loss: 2.025087]\n"
     ]
    }
   ],
   "source": [
    "for epoch in range(n_epochs):\n",
    "    for i, (imgs, labels) in enumerate(dataloader):\n",
    "        # Adversarial ground truths\n",
    "        valid = Variable(Tensor(imgs.size(0), 1).fill_(1.0), requires_grad=False)\n",
    "        fake = Variable(Tensor(imgs.size(0), 1).fill_(0.0), requires_grad=False)\n",
    "\n",
    "        # Configure input\n",
    "        real_imgs = Variable(imgs.type(Tensor))\n",
    "\n",
    "        # -----------------\n",
    "        #  Train Generator\n",
    "        # -----------------\n",
    "\n",
    "        optimizer_G.zero_grad()\n",
    "\n",
    "        # Sample noise as generator input\n",
    "        z = Variable(Tensor(np.random.normal(0, 3, (imgs.shape[0], latent_dim))))\n",
    "\n",
    "        # Generate a batch of images\n",
    "        gen_imgs = generator(z)\n",
    "\n",
    "        # Loss measures generator's ability to fool the discriminator\n",
    "        regularize = generator.regularization_fast(gen_imgs, ae)\n",
    "        g_loss = adversarial_loss(discriminator(gen_imgs), valid) + regularize\n",
    "\n",
    "        g_loss.backward()\n",
    "        optimizer_G.step()\n",
    "\n",
    "        # ---------------------\n",
    "        #  Train Discriminator\n",
    "        # ---------------------\n",
    "\n",
    "        optimizer_D.zero_grad()\n",
    "\n",
    "        # Measure discriminator's ability to classify real from generated samples\n",
    "        real_loss = adversarial_loss(discriminator(real_imgs), valid)\n",
    "        fake_loss = adversarial_loss(discriminator(gen_imgs.detach()), fake)\n",
    "        d_loss = (real_loss + fake_loss) / 2\n",
    "\n",
    "        d_loss.backward()\n",
    "        optimizer_D.step()\n",
    "        \n",
    "        batches_done = epoch * len(dataloader) + i\n",
    "\n",
    "        if batches_done % sample_interval == 0:\n",
    "            print(\n",
    "                \"[Epoch %d/%d] [Batch %d/%d] [D loss: %f] [G loss: %f]\"\n",
    "                % (epoch, n_epochs, i, len(dataloader), d_loss.item(), g_loss.item())\n",
    "            )\n",
    "            save_image(gen_imgs.data[:25], \"test/%d.png\" % batches_done, nrow=5, normalize=True)    "
   ]
  },
  {
   "cell_type": "code",
   "execution_count": 55,
   "id": "63963acd",
   "metadata": {},
   "outputs": [],
   "source": [
    "z = Variable(Tensor(np.random.normal(0, 3, (imgs.shape[0], latent_dim))))"
   ]
  },
  {
   "cell_type": "code",
   "execution_count": 56,
   "id": "ee95471f",
   "metadata": {},
   "outputs": [],
   "source": [
    "gen_imgs = generator(z)"
   ]
  },
  {
   "cell_type": "code",
   "execution_count": 60,
   "id": "e950b7c5",
   "metadata": {},
   "outputs": [
    {
     "name": "stderr",
     "output_type": "stream",
     "text": [
      "Clipping input data to the valid range for imshow with RGB data ([0..1] for floats or [0..255] for integers).\n"
     ]
    },
    {
     "data": {
      "text/plain": [
       "<matplotlib.image.AxesImage at 0x7fb7380716d0>"
      ]
     },
     "execution_count": 60,
     "metadata": {},
     "output_type": "execute_result"
    },
    {
     "data": {
      "image/png": "[encoded data removed]",
      "text/plain": [
       "<Figure size 432x288 with 1 Axes>"
      ]
     },
     "metadata": {
      "needs_background": "light"
     },
     "output_type": "display_data"
    }
   ],
   "source": [
    "plt.imshow(  gen_imgs.data[4].permute(1, 2, 0)  )"
   ]
  },
  {
   "cell_type": "code",
   "execution_count": 421,
   "id": "f044a109",
   "metadata": {},
   "outputs": [
    {
     "data": {
      "text/plain": [
       "torch.Size([3, 64, 64])"
      ]
     },
     "execution_count": 421,
     "metadata": {},
     "output_type": "execute_result"
    }
   ],
   "source": [
    "gen_imgs[0].shape"
   ]
  },
  {
   "cell_type": "code",
   "execution_count": 58,
   "id": "ab6beefb",
   "metadata": {},
   "outputs": [
    {
     "data": {
      "text/plain": [
       "tensor([7.0000, 6.0000], grad_fn=<SumBackward1>)"
      ]
     },
     "execution_count": 58,
     "metadata": {},
     "output_type": "execute_result"
    }
   ],
   "source": [
    "torch.sum(classifier(gen_imgs), dim = 0)"
   ]
  },
  {
   "cell_type": "code",
   "execution_count": 38,
   "id": "2e1a43cf",
   "metadata": {},
   "outputs": [
    {
     "data": {
      "text/plain": [
       "tensor([[6.9441e-01, 3.0559e-01],\n",
       "        [1.0000e+00, 1.3509e-07],\n",
       "        [8.9473e-09, 1.0000e+00],\n",
       "        [1.0000e+00, 1.1838e-06],\n",
       "        [1.0000e+00, 1.2146e-06],\n",
       "        [1.0000e+00, 2.2536e-08],\n",
       "        [5.3620e-08, 1.0000e+00],\n",
       "        [1.0000e+00, 3.8124e-08],\n",
       "        [4.2431e-05, 9.9996e-01],\n",
       "        [3.5550e-08, 1.0000e+00],\n",
       "        [1.0000e+00, 2.0724e-06],\n",
       "        [6.0243e-08, 1.0000e+00],\n",
       "        [1.1111e-07, 1.0000e+00]], grad_fn=<SoftmaxBackward0>)"
      ]
     },
     "execution_count": 38,
     "metadata": {},
     "output_type": "execute_result"
    }
   ],
   "source": [
    "classifier(gen_imgs)"
   ]
  },
  {
   "cell_type": "code",
   "execution_count": null,
   "id": "913648c5",
   "metadata": {},
   "outputs": [],
   "source": []
  }
 ],
 "metadata": {
  "kernelspec": {
   "display_name": "Python 3 (ipykernel)",
   "language": "python",
   "name": "python3"
  },
  "language_info": {
   "codemirror_mode": {
    "name": "ipython",
    "version": 3
   },
   "file_extension": ".py",
   "mimetype": "text/x-python",
   "name": "python",
   "nbconvert_exporter": "python",
   "pygments_lexer": "ipython3",
   "version": "3.8.12"
  }
 },
 "nbformat": 4,
 "nbformat_minor": 5
}
