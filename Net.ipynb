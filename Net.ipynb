{
 "cells": [
  {
   "cell_type": "code",
   "execution_count": 303,
   "id": "bd64b950",
   "metadata": {},
   "outputs": [],
   "source": [
    "import argparse\n",
    "import os\n",
    "import numpy as np\n",
    "import math\n",
    "import matplotlib.pyplot as plt\n",
    "from scipy.stats import multivariate_normal as mvn\n",
    "\n",
    "import torchvision.transforms as transforms\n",
    "from torchvision.utils import save_image\n",
    "import torchvision.datasets as dset\n",
    "\n",
    "from torch.utils.data import DataLoader\n",
    "from torchvision import datasets\n",
    "from torch.autograd import Variable\n",
    "\n",
    "import torch.nn as nn\n",
    "import torch.nn.functional as F\n",
    "import torch"
   ]
  },
  {
   "cell_type": "code",
   "execution_count": 304,
   "id": "132541fc",
   "metadata": {},
   "outputs": [],
   "source": [
    "n_epochs = 200\n",
    "batch_size = 64\n",
    "lr = 2e-4\n",
    "b1 = 0.5\n",
    "b2 = 0.999\n",
    "n_cpu = 8\n",
    "latent_dim = 100\n",
    "img_size = 64\n",
    "channels = 3\n",
    "sample_interval=400\n",
    "lam1 = 1e-1\n",
    "lam2 = 0\n",
    "sample_pixels = sorted(np.random.randint(low = 0, high = img_size*img_size*3, size = (7500,)))\n",
    "\n",
    "img_shape = (channels, img_size, img_size)\n",
    "\n",
    "cuda = True if torch.cuda.is_available() else False"
   ]
  },
  {
   "cell_type": "code",
   "execution_count": 305,
   "id": "5a42f51a",
   "metadata": {},
   "outputs": [],
   "source": [
    "dataroot = \"resized_data_bayc_no_background\"\n",
    "dataset = dset.ImageFolder(root=dataroot,\n",
    "                           transform=transforms.Compose([\n",
    "                               transforms.Resize(img_size),\n",
    "                               transforms.ToTensor(),\n",
    "                               transforms.Normalize((0.5, 0.5, 0.5), (0.5, 0.5, 0.5)),\n",
    "                           ]))"
   ]
  },
  {
   "cell_type": "code",
   "execution_count": 306,
   "id": "17c1239f",
   "metadata": {},
   "outputs": [],
   "source": [
    "samples = 6000\n",
    "image_samples = np.zeros((samples, img_size*img_size*3))\n",
    "for i in range(0, samples):\n",
    "    sample_idx = torch.randint(len(dataset), size=(1,)).item()\n",
    "    img, _ = dataset[sample_idx]\n",
    "    flat = torch.flatten(img).detach().numpy()\n",
    "    image_samples[i] = flat\n",
    "image_samples_apes = image_samples.T[sample_pixels]"
   ]
  },
  {
   "cell_type": "code",
   "execution_count": 307,
   "id": "fd295190",
   "metadata": {},
   "outputs": [],
   "source": [
    "mean_apes = np.mean(image_samples_apes, axis = 1)\n",
    "cov_apes = np.cov(image_samples_apes) + 0.0001*np.identity(len(sample_pixels)) \n",
    "dist_apes = mvn(mean_apes, cov_apes)"
   ]
  },
  {
   "cell_type": "code",
   "execution_count": 308,
   "id": "b206543e",
   "metadata": {},
   "outputs": [],
   "source": [
    "dataroot = \"resized_data_unicorns\"\n",
    "dataset = dset.ImageFolder(root=dataroot,\n",
    "                           transform=transforms.Compose([\n",
    "                               transforms.Resize(img_size),\n",
    "                               transforms.ToTensor(),\n",
    "                               transforms.Normalize((0.5, 0.5, 0.5), (0.5, 0.5, 0.5)),\n",
    "                           ]))"
   ]
  },
  {
   "cell_type": "code",
   "execution_count": 309,
   "id": "e233d71e",
   "metadata": {},
   "outputs": [],
   "source": [
    "samples = 2000\n",
    "image_samples = np.zeros((samples, img_size*img_size*3))\n",
    "for i in range(0, samples):\n",
    "    sample_idx = torch.randint(len(dataset), size=(1,)).item()\n",
    "    img, _ = dataset[sample_idx]\n",
    "    flat = torch.flatten(img).detach().numpy()\n",
    "    image_samples[i] = flat\n",
    "image_samples_unicorns = image_samples.T[sample_pixels]"
   ]
  },
  {
   "cell_type": "code",
   "execution_count": 310,
   "id": "8752e268",
   "metadata": {},
   "outputs": [],
   "source": [
    "mean_unicorns = np.mean(image_samples_unicorns, axis = 1)\n",
    "cov_unicorns = np.cov(image_samples_unicorns) + 0.0001*np.identity(len(sample_pixels)) \n",
    "dist_unicorns = mvn(mean_unicorns, cov_unicorns)"
   ]
  },
  {
   "cell_type": "code",
   "execution_count": 319,
   "id": "9513d663",
   "metadata": {},
   "outputs": [],
   "source": [
    "class Generator(nn.Module):\n",
    "    def __init__(self):\n",
    "        super(Generator, self).__init__()\n",
    "\n",
    "        def block(in_feat, out_feat, normalize=True):\n",
    "            layers = [nn.Linear(in_feat, out_feat)]\n",
    "            if normalize:\n",
    "                layers.append(nn.BatchNorm1d(out_feat, 0.8))\n",
    "            layers.append(nn.LeakyReLU(0.2, inplace=True))\n",
    "            return layers\n",
    "\n",
    "        self.model = nn.Sequential(\n",
    "            *block(latent_dim, 128, normalize=False),\n",
    "            *block(128, 256),\n",
    "            *block(256, 512),\n",
    "            *block(512, 1024),\n",
    "            nn.Linear(1024, int(np.prod(img_shape))),\n",
    "            nn.Tanh()\n",
    "        )\n",
    "    \n",
    "    \n",
    "    def regularization(self, gen_imgs):\n",
    "        \n",
    "        result1 = 0\n",
    "        result2 = 0\n",
    "        sample_images = sorted(np.random.randint(low = 0, high = len(gen_imgs), size = (5,)))\n",
    "        \"\"\"\n",
    "        for i in sample_images:\n",
    "            out = gen_imgs[i]\n",
    "            sampled = torch.flatten(out).detach().numpy()[sample_pixels]\n",
    "            result += dist_apes.logpdf(sampled)\n",
    "        return result/len(sample_images)\n",
    "        \"\"\"\n",
    "        for i in sample_images:\n",
    "            img = gen_imgs[i]\n",
    "            flat = torch.flatten(img).numpy()[sample_pixels]\n",
    "            diff1 = (image_samples_apes.T - flat).T\n",
    "            #diff2 =  (image_samples_unicorns.T - flat).T\n",
    "            result1 += -np.log(np.min(np.linalg.norm(diff1, axis=0)))\n",
    "            #result2 += -np.log(np.min(np.linalg.norm(diff2, axis=0)))\n",
    "        return lam1*result1/len(sample_images) + lam2*result2/len(sample_images)\n",
    "        \n",
    "\n",
    "    def forward(self, z):\n",
    "        img = self.model(z)\n",
    "        img = img.view(img.size(0), *img_shape)\n",
    "        return img"
   ]
  },
  {
   "cell_type": "code",
   "execution_count": 320,
   "id": "9d914a8c",
   "metadata": {},
   "outputs": [],
   "source": [
    "class Discriminator(nn.Module):\n",
    "    def __init__(self):\n",
    "        super(Discriminator, self).__init__()\n",
    "\n",
    "        self.model = nn.Sequential(\n",
    "            nn.Linear(int(np.prod(img_shape)), 512),\n",
    "            nn.LeakyReLU(0.2, inplace=True),\n",
    "            nn.Linear(512, 256),\n",
    "            nn.LeakyReLU(0.2, inplace=True),\n",
    "            nn.Linear(256, 1),\n",
    "            nn.Sigmoid(),\n",
    "        )\n",
    "\n",
    "    def forward(self, img):\n",
    "        img_flat = img.view(img.size(0), -1)\n",
    "        validity = self.model(img_flat)\n",
    "\n",
    "        return validity"
   ]
  },
  {
   "cell_type": "code",
   "execution_count": 321,
   "id": "2670799d",
   "metadata": {},
   "outputs": [],
   "source": [
    "# Loss function\n",
    "adversarial_loss = torch.nn.BCELoss()\n",
    "\n",
    "# Initialize generator and discriminator\n",
    "generator = Generator()\n",
    "discriminator = Discriminator()\n",
    "\n",
    "if cuda:\n",
    "    generator.cuda()\n",
    "    discriminator.cuda()\n",
    "    adversarial_loss.cuda()"
   ]
  },
  {
   "cell_type": "code",
   "execution_count": 322,
   "id": "2135586b",
   "metadata": {},
   "outputs": [],
   "source": [
    "dataroot = \"resized_data_bayc_no_background\"\n",
    "dataset = dset.ImageFolder(root=dataroot,\n",
    "                           transform=transforms.Compose([\n",
    "                               transforms.Resize(img_size),\n",
    "                               transforms.ToTensor(),\n",
    "                               transforms.Normalize((0.5, 0.5, 0.5), (0.5, 0.5, 0.5)),\n",
    "                           ]))"
   ]
  },
  {
   "cell_type": "code",
   "execution_count": 323,
   "id": "1d668e61",
   "metadata": {},
   "outputs": [],
   "source": [
    "dataloader = torch.utils.data.DataLoader(dataset, batch_size=batch_size,\n",
    "                                         shuffle=True)"
   ]
  },
  {
   "cell_type": "code",
   "execution_count": 324,
   "id": "ca31e47f",
   "metadata": {},
   "outputs": [],
   "source": [
    "optimizer_G = torch.optim.Adam(generator.parameters(), lr=lr, betas=(b1, b2))\n",
    "optimizer_D = torch.optim.Adam(discriminator.parameters(), lr=lr, betas=(b1, b2))\n",
    "\n",
    "Tensor = torch.cuda.FloatTensor if cuda else torch.FloatTensor"
   ]
  },
  {
   "cell_type": "code",
   "execution_count": 325,
   "id": "0a2b105c",
   "metadata": {},
   "outputs": [
    {
     "name": "stdout",
     "output_type": "stream",
     "text": [
      "[Epoch 0/200] [Batch 0/157] [D loss: 0.682002] [G loss: 0.249789]\n",
      "[Epoch 2/200] [Batch 86/157] [D loss: 0.559372] [G loss: 0.494357]\n",
      "[Epoch 5/200] [Batch 15/157] [D loss: 1.080021] [G loss: -0.163397]\n",
      "[Epoch 7/200] [Batch 101/157] [D loss: 0.728966] [G loss: 0.007692]\n",
      "[Epoch 10/200] [Batch 30/157] [D loss: 0.483900] [G loss: 0.491957]\n",
      "[Epoch 12/200] [Batch 116/157] [D loss: 0.529948] [G loss: 0.317327]\n",
      "[Epoch 15/200] [Batch 45/157] [D loss: 0.531885] [G loss: 1.013589]\n",
      "[Epoch 17/200] [Batch 131/157] [D loss: 0.356082] [G loss: 0.881952]\n",
      "[Epoch 20/200] [Batch 60/157] [D loss: 0.506100] [G loss: 0.423422]\n",
      "[Epoch 22/200] [Batch 146/157] [D loss: 0.422488] [G loss: 0.909843]\n",
      "[Epoch 25/200] [Batch 75/157] [D loss: 0.535173] [G loss: 1.816017]\n",
      "[Epoch 28/200] [Batch 4/157] [D loss: 0.335708] [G loss: 0.910477]\n",
      "[Epoch 30/200] [Batch 90/157] [D loss: 0.266240] [G loss: 1.988096]\n"
     ]
    },
    {
     "ename": "KeyboardInterrupt",
     "evalue": "",
     "output_type": "error",
     "traceback": [
      "\u001b[0;31m---------------------------------------------------------------------------\u001b[0m",
      "\u001b[0;31mKeyboardInterrupt\u001b[0m                         Traceback (most recent call last)",
      "\u001b[0;32m/var/folders/6q/v_p3k4_j7wj61s5gfkb2j9b40000gn/T/ipykernel_75535/466414900.py\u001b[0m in \u001b[0;36m<module>\u001b[0;34m\u001b[0m\n\u001b[1;32m     21\u001b[0m \u001b[0;34m\u001b[0m\u001b[0m\n\u001b[1;32m     22\u001b[0m         \u001b[0;31m# Loss measures generator's ability to fool the discriminator\u001b[0m\u001b[0;34m\u001b[0m\u001b[0;34m\u001b[0m\u001b[0;34m\u001b[0m\u001b[0m\n\u001b[0;32m---> 23\u001b[0;31m         \u001b[0mg_loss\u001b[0m \u001b[0;34m=\u001b[0m \u001b[0madversarial_loss\u001b[0m\u001b[0;34m(\u001b[0m\u001b[0mdiscriminator\u001b[0m\u001b[0;34m(\u001b[0m\u001b[0mgen_imgs\u001b[0m\u001b[0;34m)\u001b[0m\u001b[0;34m,\u001b[0m \u001b[0mvalid\u001b[0m\u001b[0;34m)\u001b[0m \u001b[0;34m+\u001b[0m \u001b[0mgenerator\u001b[0m\u001b[0;34m.\u001b[0m\u001b[0mregularization\u001b[0m\u001b[0;34m(\u001b[0m\u001b[0mgen_imgs\u001b[0m\u001b[0;34m.\u001b[0m\u001b[0mdata\u001b[0m\u001b[0;34m)\u001b[0m\u001b[0;34m\u001b[0m\u001b[0;34m\u001b[0m\u001b[0m\n\u001b[0m\u001b[1;32m     24\u001b[0m \u001b[0;34m\u001b[0m\u001b[0m\n\u001b[1;32m     25\u001b[0m         \u001b[0mg_loss\u001b[0m\u001b[0;34m.\u001b[0m\u001b[0mbackward\u001b[0m\u001b[0;34m(\u001b[0m\u001b[0;34m)\u001b[0m\u001b[0;34m\u001b[0m\u001b[0;34m\u001b[0m\u001b[0m\n",
      "\u001b[0;32m/var/folders/6q/v_p3k4_j7wj61s5gfkb2j9b40000gn/T/ipykernel_75535/2691858039.py\u001b[0m in \u001b[0;36mregularization\u001b[0;34m(self, gen_imgs)\u001b[0m\n\u001b[1;32m     37\u001b[0m             \u001b[0mdiff1\u001b[0m \u001b[0;34m=\u001b[0m \u001b[0;34m(\u001b[0m\u001b[0mimage_samples_apes\u001b[0m\u001b[0;34m.\u001b[0m\u001b[0mT\u001b[0m \u001b[0;34m-\u001b[0m \u001b[0mflat\u001b[0m\u001b[0;34m)\u001b[0m\u001b[0;34m.\u001b[0m\u001b[0mT\u001b[0m\u001b[0;34m\u001b[0m\u001b[0;34m\u001b[0m\u001b[0m\n\u001b[1;32m     38\u001b[0m             \u001b[0;31m#diff2 =  (image_samples_unicorns.T - flat).T\u001b[0m\u001b[0;34m\u001b[0m\u001b[0;34m\u001b[0m\u001b[0;34m\u001b[0m\u001b[0m\n\u001b[0;32m---> 39\u001b[0;31m             \u001b[0mresult1\u001b[0m \u001b[0;34m+=\u001b[0m \u001b[0;34m-\u001b[0m\u001b[0mnp\u001b[0m\u001b[0;34m.\u001b[0m\u001b[0mlog\u001b[0m\u001b[0;34m(\u001b[0m\u001b[0mnp\u001b[0m\u001b[0;34m.\u001b[0m\u001b[0mmin\u001b[0m\u001b[0;34m(\u001b[0m\u001b[0mnp\u001b[0m\u001b[0;34m.\u001b[0m\u001b[0mlinalg\u001b[0m\u001b[0;34m.\u001b[0m\u001b[0mnorm\u001b[0m\u001b[0;34m(\u001b[0m\u001b[0mdiff1\u001b[0m\u001b[0;34m,\u001b[0m \u001b[0maxis\u001b[0m\u001b[0;34m=\u001b[0m\u001b[0;36m0\u001b[0m\u001b[0;34m)\u001b[0m\u001b[0;34m)\u001b[0m\u001b[0;34m)\u001b[0m\u001b[0;34m\u001b[0m\u001b[0;34m\u001b[0m\u001b[0m\n\u001b[0m\u001b[1;32m     40\u001b[0m             \u001b[0;31m#result2 += -np.log(np.min(np.linalg.norm(diff2, axis=0)))\u001b[0m\u001b[0;34m\u001b[0m\u001b[0;34m\u001b[0m\u001b[0;34m\u001b[0m\u001b[0m\n\u001b[1;32m     41\u001b[0m         \u001b[0;32mreturn\u001b[0m \u001b[0mlam1\u001b[0m\u001b[0;34m*\u001b[0m\u001b[0mresult1\u001b[0m\u001b[0;34m/\u001b[0m\u001b[0mlen\u001b[0m\u001b[0;34m(\u001b[0m\u001b[0msample_images\u001b[0m\u001b[0;34m)\u001b[0m \u001b[0;34m+\u001b[0m \u001b[0mlam2\u001b[0m\u001b[0;34m*\u001b[0m\u001b[0mresult2\u001b[0m\u001b[0;34m/\u001b[0m\u001b[0mlen\u001b[0m\u001b[0;34m(\u001b[0m\u001b[0msample_images\u001b[0m\u001b[0;34m)\u001b[0m\u001b[0;34m\u001b[0m\u001b[0;34m\u001b[0m\u001b[0m\n",
      "\u001b[0;32m<__array_function__ internals>\u001b[0m in \u001b[0;36mnorm\u001b[0;34m(*args, **kwargs)\u001b[0m\n",
      "\u001b[0;32m/opt/anaconda3/lib/python3.8/site-packages/numpy/linalg/linalg.py\u001b[0m in \u001b[0;36mnorm\u001b[0;34m(x, ord, axis, keepdims)\u001b[0m\n\u001b[1;32m   2558\u001b[0m         \u001b[0;32melif\u001b[0m \u001b[0mord\u001b[0m \u001b[0;32mis\u001b[0m \u001b[0;32mNone\u001b[0m \u001b[0;32mor\u001b[0m \u001b[0mord\u001b[0m \u001b[0;34m==\u001b[0m \u001b[0;36m2\u001b[0m\u001b[0;34m:\u001b[0m\u001b[0;34m\u001b[0m\u001b[0;34m\u001b[0m\u001b[0m\n\u001b[1;32m   2559\u001b[0m             \u001b[0;31m# special case for speedup\u001b[0m\u001b[0;34m\u001b[0m\u001b[0;34m\u001b[0m\u001b[0;34m\u001b[0m\u001b[0m\n\u001b[0;32m-> 2560\u001b[0;31m             \u001b[0ms\u001b[0m \u001b[0;34m=\u001b[0m \u001b[0;34m(\u001b[0m\u001b[0mx\u001b[0m\u001b[0;34m.\u001b[0m\u001b[0mconj\u001b[0m\u001b[0;34m(\u001b[0m\u001b[0;34m)\u001b[0m \u001b[0;34m*\u001b[0m \u001b[0mx\u001b[0m\u001b[0;34m)\u001b[0m\u001b[0;34m.\u001b[0m\u001b[0mreal\u001b[0m\u001b[0;34m\u001b[0m\u001b[0;34m\u001b[0m\u001b[0m\n\u001b[0m\u001b[1;32m   2561\u001b[0m             \u001b[0;32mreturn\u001b[0m \u001b[0msqrt\u001b[0m\u001b[0;34m(\u001b[0m\u001b[0madd\u001b[0m\u001b[0;34m.\u001b[0m\u001b[0mreduce\u001b[0m\u001b[0;34m(\u001b[0m\u001b[0ms\u001b[0m\u001b[0;34m,\u001b[0m \u001b[0maxis\u001b[0m\u001b[0;34m=\u001b[0m\u001b[0maxis\u001b[0m\u001b[0;34m,\u001b[0m \u001b[0mkeepdims\u001b[0m\u001b[0;34m=\u001b[0m\u001b[0mkeepdims\u001b[0m\u001b[0;34m)\u001b[0m\u001b[0;34m)\u001b[0m\u001b[0;34m\u001b[0m\u001b[0;34m\u001b[0m\u001b[0m\n\u001b[1;32m   2562\u001b[0m         \u001b[0;31m# None of the str-type keywords for ord ('fro', 'nuc')\u001b[0m\u001b[0;34m\u001b[0m\u001b[0;34m\u001b[0m\u001b[0;34m\u001b[0m\u001b[0m\n",
      "\u001b[0;31mKeyboardInterrupt\u001b[0m: "
     ]
    }
   ],
   "source": [
    "for epoch in range(n_epochs):\n",
    "    for i, (imgs, _) in enumerate(dataloader):\n",
    "        # Adversarial ground truths\n",
    "        valid = Variable(Tensor(imgs.size(0), 1).fill_(1.0), requires_grad=False)\n",
    "        fake = Variable(Tensor(imgs.size(0), 1).fill_(0.0), requires_grad=False)\n",
    "\n",
    "        # Configure input\n",
    "        real_imgs = Variable(imgs.type(Tensor))\n",
    "\n",
    "        # -----------------\n",
    "        #  Train Generator\n",
    "        # -----------------\n",
    "\n",
    "        optimizer_G.zero_grad()\n",
    "\n",
    "        # Sample noise as generator input\n",
    "        z = Variable(Tensor(np.random.normal(0, 3, (imgs.shape[0], latent_dim))))\n",
    "\n",
    "        # Generate a batch of images\n",
    "        gen_imgs = generator(z)\n",
    "\n",
    "        # Loss measures generator's ability to fool the discriminator\n",
    "        g_loss = adversarial_loss(discriminator(gen_imgs), valid) + generator.regularization(gen_imgs.data)\n",
    "\n",
    "        g_loss.backward()\n",
    "        optimizer_G.step()\n",
    "\n",
    "        # ---------------------\n",
    "        #  Train Discriminator\n",
    "        # ---------------------\n",
    "\n",
    "        optimizer_D.zero_grad()\n",
    "\n",
    "        # Measure discriminator's ability to classify real from generated samples\n",
    "        real_loss = adversarial_loss(discriminator(real_imgs), valid)\n",
    "        fake_loss = adversarial_loss(discriminator(gen_imgs.detach()), fake)\n",
    "        d_loss = (real_loss + fake_loss) / 2\n",
    "\n",
    "        d_loss.backward()\n",
    "        optimizer_D.step()\n",
    "        \n",
    "        batches_done = epoch * len(dataloader) + i\n",
    "\n",
    "        if batches_done % sample_interval == 0:\n",
    "            print(\n",
    "                \"[Epoch %d/%d] [Batch %d/%d] [D loss: %f] [G loss: %f]\"\n",
    "                % (epoch, n_epochs, i, len(dataloader), d_loss.item(), g_loss.item())\n",
    "            )\n",
    "            save_image(gen_imgs.data[:25], \"gen_bayc_no_background_regularization/%d.png\" % batches_done, nrow=5, normalize=True)    "
   ]
  },
  {
   "cell_type": "code",
   "execution_count": 326,
   "id": "205ff12f",
   "metadata": {},
   "outputs": [],
   "source": [
    "z = Variable(Tensor(np.random.normal(0, 3, (imgs.shape[0], latent_dim))))"
   ]
  },
  {
   "cell_type": "code",
   "execution_count": 327,
   "id": "4c823b96",
   "metadata": {},
   "outputs": [],
   "source": [
    "gen_imgs = generator(z)"
   ]
  },
  {
   "cell_type": "code",
   "execution_count": 332,
   "id": "3053316d",
   "metadata": {},
   "outputs": [
    {
     "name": "stdout",
     "output_type": "stream",
     "text": [
      "tensor([[[-0.7904, -0.6573,  0.3974,  ...,  0.5347, -0.5327, -0.8168],\n",
      "         [-0.5625,  0.9399,  0.6861,  ...,  0.8819,  0.9093, -0.5398],\n",
      "         [ 0.5648,  0.9744,  0.9252,  ...,  0.7882,  0.9048,  0.4699],\n",
      "         ...,\n",
      "         [ 0.6476,  0.9711,  0.9495,  ...,  0.9480,  0.9678,  0.6084],\n",
      "         [-0.4587,  0.8278,  0.8059,  ...,  0.8742,  0.8819, -0.1922],\n",
      "         [-0.8561, -0.5113,  0.4948,  ...,  0.6840, -0.3853, -0.9199]],\n",
      "\n",
      "        [[-0.9459, -0.5451,  0.4498,  ...,  0.4922, -0.7633, -0.7947],\n",
      "         [-0.6085,  0.9574,  0.9697,  ...,  0.9174,  0.9552, -0.3060],\n",
      "         [ 0.5307,  0.9194,  0.9736,  ...,  0.9122,  0.9068,  0.4191],\n",
      "         ...,\n",
      "         [-0.0202,  0.9546,  0.9521,  ...,  0.9168,  0.9373,  0.4520],\n",
      "         [-0.3109,  0.9855,  0.8367,  ...,  0.9176,  0.9066, -0.4933],\n",
      "         [-0.7862, -0.5688,  0.3503,  ...,  0.2813, -0.6560, -0.7940]],\n",
      "\n",
      "        [[-0.9396, -0.6441,  0.2045,  ...,  0.2936, -0.7240, -0.7618],\n",
      "         [-0.7406,  0.9648,  0.8710,  ...,  0.9639,  0.9418, -0.6853],\n",
      "         [-0.1140,  0.9713,  0.9499,  ...,  0.7727,  0.8991,  0.1618],\n",
      "         ...,\n",
      "         [ 0.4218,  0.7744,  0.9354,  ...,  0.9507,  0.7065,  0.2178],\n",
      "         [-0.5860,  0.6830,  0.9111,  ...,  0.9307,  0.9213, -0.7260],\n",
      "         [-0.9110, -0.8359,  0.3495,  ..., -0.1686, -0.7035, -0.8638]]],\n",
      "       grad_fn=<SelectBackward0>)\n"
     ]
    }
   ],
   "source": [
    "print(gen_imgs[0].item)"
   ]
  },
  {
   "cell_type": "code",
   "execution_count": 337,
   "id": "7b595f2d",
   "metadata": {},
   "outputs": [
    {
     "name": "stderr",
     "output_type": "stream",
     "text": [
      "Clipping input data to the valid range for imshow with RGB data ([0..1] for floats or [0..255] for integers).\n"
     ]
    },
    {
     "data": {
      "text/plain": [
       "<matplotlib.image.AxesImage at 0x7fefb24ebac0>"
      ]
     },
     "execution_count": 337,
     "metadata": {},
     "output_type": "execute_result"
    },
    {
     "data": {
      "image/png": "[encoded data removed]",
      "text/plain": [
       "<Figure size 432x288 with 1 Axes>"
      ]
     },
     "metadata": {
      "needs_background": "light"
     },
     "output_type": "display_data"
    }
   ],
   "source": [
    "plt.imshow(  gen_imgs.data[6].permute(1, 2, 0)  )"
   ]
  },
  {
   "cell_type": "code",
   "execution_count": 339,
   "id": "0dcaa578",
   "metadata": {},
   "outputs": [
    {
     "data": {
      "text/plain": [
       "-0.3028939561341505"
      ]
     },
     "execution_count": 339,
     "metadata": {},
     "output_type": "execute_result"
    }
   ],
   "source": [
    "generator.regularization(gen_imgs.data)"
   ]
  },
  {
   "cell_type": "code",
   "execution_count": null,
   "id": "be82f4f5",
   "metadata": {},
   "outputs": [],
   "source": []
  }
 ],
 "metadata": {
  "kernelspec": {
   "display_name": "Python 3 (ipykernel)",
   "language": "python",
   "name": "python3"
  },
  "language_info": {
   "codemirror_mode": {
    "name": "ipython",
    "version": 3
   },
   "file_extension": ".py",
   "mimetype": "text/x-python",
   "name": "python",
   "nbconvert_exporter": "python",
   "pygments_lexer": "ipython3",
   "version": "3.8.12"
  }
 },
 "nbformat": 4,
 "nbformat_minor": 5
}
